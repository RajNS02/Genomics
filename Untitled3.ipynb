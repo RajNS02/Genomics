{
 "cells": [
  {
   "cell_type": "code",
   "execution_count": 1,
   "id": "9b8bff1d",
   "metadata": {},
   "outputs": [],
   "source": [
    "from Bio import SeqIO\n",
    "import pandas as pd\n",
    "import os"
   ]
  },
  {
   "cell_type": "code",
   "execution_count": 10,
   "id": "0034d9c8",
   "metadata": {},
   "outputs": [],
   "source": [
    "vir_genes_txt = 'vir_factors.txt'"
   ]
  },
  {
   "cell_type": "code",
   "execution_count": 18,
   "id": "f0461265",
   "metadata": {},
   "outputs": [],
   "source": [
    "with open(vir_genes_txt, 'r') as input_file:\n",
    "    \n",
    "    vir_genes = [gene.strip() for gene in input_file]"
   ]
  },
  {
   "cell_type": "code",
   "execution_count": 20,
   "id": "6b605af5",
   "metadata": {},
   "outputs": [
    {
     "name": "stdout",
     "output_type": "stream",
     "text": [
      "['eae', 'ecpA', 'ecpB', 'ecpC', 'ecpD', 'ecpE', 'ecpR', 'paa', 'lpfA', 'lpfB', 'ler', 'escS', 'escT', 'escU', 'cesD', 'escC', 'escJ', 'escV', 'escN', 'tir', 'eae', 'escD', 'sepL', 'espA', 'espD', 'espB', 'escF', 'espF']\n"
     ]
    }
   ],
   "source": [
    "print(vir_genes)"
   ]
  },
  {
   "cell_type": "code",
   "execution_count": 21,
   "id": "f19034d7",
   "metadata": {},
   "outputs": [],
   "source": [
    "gb_obj = SeqIO.read('e_coli.gb', 'gb')"
   ]
  },
  {
   "cell_type": "code",
   "execution_count": 22,
   "id": "92d96808",
   "metadata": {},
   "outputs": [
    {
     "name": "stdout",
     "output_type": "stream",
     "text": [
      "ID: NC_002695.2\n",
      "Name: NC_002695\n",
      "Description: Escherichia coli O157:H7 str. Sakai DNA, complete genome\n",
      "Database cross-references: BioProject:PRJNA226, BioSample:SAMN01911278\n",
      "Number of features: 10748\n",
      "/molecule_type=DNA\n",
      "/topology=circular\n",
      "/data_file_division=CON\n",
      "/date=12-FEB-2021\n",
      "/accessions=['NC_002695']\n",
      "/sequence_version=2\n",
      "/keywords=['RefSeq']\n",
      "/source=Escherichia coli O157:H7 str. Sakai\n",
      "/organism=Escherichia coli O157:H7 str. Sakai\n",
      "/taxonomy=['Bacteria', 'Proteobacteria', 'Gammaproteobacteria', 'Enterobacterales', 'Enterobacteriaceae', 'Escherichia']\n",
      "/references=[Reference(title='Complete genome sequence of enterohemorrhagic Escherichia coli O157:H7 and genomic comparison with a laboratory strain K-12', ...), Reference(title='Complete nucleotide sequence of the prophage VT1-Sakai carrying the Shiga toxin 1 genes of the enterohemorrhagic Escherichia coli O157:H7 strain derived from the Sakai outbreak', ...), Reference(title='Comparative analysis of the whole set of rRNA operons between an enterohemorrhagic Escherichia coli O157:H7 Sakai strain and an Escherichia coli K-12 strain MG1655', ...), Reference(title='Complete nucleotide sequence of the prophage VT2-Sakai carrying the verotoxin 2 genes of the enterohemorrhagic Escherichia coli O157:H7 derived from the Sakai outbreak', ...), Reference(title='Direct Submission', ...), Reference(title='Direct Submission', ...)]\n",
      "/comment=PROVISIONAL REFSEQ: This record has not yet been subject to final\n",
      "NCBI review. The reference sequence is identical to BA000007.\n",
      "On Aug 15, 2018 this sequence version replaced NC_002695.1.\n",
      "On May 10, 2018 this sequence version replased gi: 47118301\n",
      "This update is obtained as follows: the Sakai genome was\n",
      "resequenced by illumina MiSeq and PacBio RS II sequencers and 78\n",
      "sites of single base error, 11 sites of insertion (10 one-base\n",
      "insertions and a 141-base insertion) and 16 sites of deletion (14\n",
      "one-base deletions, a three-base deletion and a six-base deletion)\n",
      "were corrected. Annotation was performed using DFAST\n",
      "auto-annotation system with manual curation.\n",
      "This work was done in collaboration with Tetsuya Hayashi, Makoto\n",
      "Ohnishi, Keisuke Nakayama (Miyazaki Medical College), Kozo Makino,\n",
      "Ken Kurokawa, Katsushi Yokoyama, Masashi Tanaka, Takeshi Honda,\n",
      "Teruo Yasunaga, Hideo Shinagawa (Osaka University), Takahiro Murata\n",
      "(Shinshu University), Chang-Gyun Han, Eiichi Ohtsubo, Toru Tobe,\n",
      "Chihiro Sasakawa (University of Tokyo), Hideto Takami (Japan Marine\n",
      "Science and Technology Center), Naotake Ogasawara (Nara Institute\n",
      "of Science and Technology), Satoru Kuhara (Kuyshu University), and\n",
      "supported by the Research for the Future Program of the Japan\n",
      "Society for the Promotion of Science.\n",
      "COMPLETENESS: full length.\n",
      "Seq('AGCTTTTCATTCTGACTGCAACGGGCAATATGTCTCTGTGTGGATTAAAAAAAG...TTC')\n"
     ]
    }
   ],
   "source": [
    "print(gb_obj)"
   ]
  },
  {
   "cell_type": "code",
   "execution_count": 24,
   "id": "41259374",
   "metadata": {},
   "outputs": [],
   "source": [
    "genes_list = [gene for gene in gb_obj.features if gene.type == 'gene']"
   ]
  },
  {
   "cell_type": "code",
   "execution_count": 28,
   "id": "8b6e10ce",
   "metadata": {},
   "outputs": [],
   "source": [
    "vir_gene_seq = []\n",
    "for gene in genes_list:\n",
    "    \n",
    "    if 'gene' in gene.qualifiers.keys():\n",
    "        \n",
    "        gene_name = gene.qualifiers['gene'][0]\n",
    "        \n",
    "        if gene_name in vir_genes:\n",
    "            extract = gene.extract(gb_obj)\n",
    "            extract.id = gene_name\n",
    "            vir_gene_seq.append(extract)"
   ]
  },
  {
   "cell_type": "code",
   "execution_count": 30,
   "id": "3bbc5a94",
   "metadata": {},
   "outputs": [
    {
     "data": {
      "text/plain": [
       "28"
      ]
     },
     "execution_count": 30,
     "metadata": {},
     "output_type": "execute_result"
    }
   ],
   "source": [
    "fasta_vir_genes = r\"F:\\Machine Learning\\Coding forces\\Codes\\Natural Language Processing\\vir_genes.fasta\"\n",
    "SeqIO.write(vir_gene_seq, fasta_vir_genes, \"fasta\")"
   ]
  }
 ],
 "metadata": {
  "kernelspec": {
   "display_name": "Python 3",
   "language": "python",
   "name": "python3"
  },
  "language_info": {
   "codemirror_mode": {
    "name": "ipython",
    "version": 3
   },
   "file_extension": ".py",
   "mimetype": "text/x-python",
   "name": "python",
   "nbconvert_exporter": "python",
   "pygments_lexer": "ipython3",
   "version": "3.8.8"
  }
 },
 "nbformat": 4,
 "nbformat_minor": 5
}
